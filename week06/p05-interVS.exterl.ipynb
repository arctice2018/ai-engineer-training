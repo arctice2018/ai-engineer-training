{
 "cells": [
  {
   "cell_type": "code",
   "execution_count": null,
   "id": "6c93dcfe",
   "metadata": {
    "vscode": {
     "languageId": "plaintext"
    }
   },
   "outputs": [],
   "source": [
    "# 使用Python构建的工作流DSL\n",
    "workflow = (\n",
    "    WorkflowBuilder()\n",
    "    .add_step(\"validate_input\", validate_user_input)\n",
    "    .add_step(\"process_data\", process_business_data)\n",
    "    .add_condition(\"data_valid\", lambda ctx: ctx.validation_result)\n",
    "    .add_step(\"send_notification\", send_success_notification)\n",
    "    .build()\n",
    ")"
   ]
  },
  {
   "cell_type": "markdown",
   "id": "64638b42",
   "metadata": {},
   "source": [
    "优势：开发成本低，可以复用宿主语言的工具链\n",
    "\n",
    "劣势：受宿主语言语法限制，业务人员难以直接理解"
   ]
  },
  {
   "cell_type": "code",
   "execution_count": null,
   "id": "b7d3ee49",
   "metadata": {
    "vscode": {
     "languageId": "yaml"
    }
   },
   "outputs": [],
   "source": [
    "# 客服对话流程DSL\n",
    "conversation_flow:\n",
    "  name: \"customer_service_flow\"\n",
    "  \n",
    "  triggers:\n",
    "    - intent: \"greeting\"\n",
    "      response: \"您好！我是智能客服，有什么可以帮您的？\"\n",
    "    \n",
    "    - intent: \"refund_request\"\n",
    "      conditions:\n",
    "        - check: \"order_exists\"\n",
    "        - check: \"order_refundable\"\n",
    "      actions:\n",
    "        - type: \"api_call\"\n",
    "          service: \"payment_service\"\n",
    "          method: \"process_refund\"\n",
    "        - type: \"send_message\"\n",
    "          template: \"refund_success\""
   ]
  },
  {
   "cell_type": "markdown",
   "id": "7d6d70d5",
   "metadata": {},
   "source": [
    "优势：语法完全自定义，业务人员可以直接理解和修改\n",
    "\n",
    "劣势：需要开发专门的解析器，开发成本相对较高"
   ]
  }
 ],
 "metadata": {
  "language_info": {
   "name": "python"
  }
 },
 "nbformat": 4,
 "nbformat_minor": 5
}
