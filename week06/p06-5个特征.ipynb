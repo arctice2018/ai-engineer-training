{
 "cells": [
  {
   "cell_type": "markdown",
   "id": "abbbf60a",
   "metadata": {},
   "source": [
    "1. 领域语义精准映射"
   ]
  },
  {
   "cell_type": "code",
   "execution_count": null,
   "id": "acd6dab6",
   "metadata": {
    "vscode": {
     "languageId": "yaml"
    }
   },
   "outputs": [],
   "source": [
    "# 好的DSL：使用业务术语\n",
    "risk_evaluation:\n",
    "  customer_type: \"premium\"\n",
    "  transaction_amount: \"> 10000\"\n",
    "  risk_level: \"medium\"\n",
    "  action: \"manual_review\"\n",
    "\n",
    "# 坏的DSL：使用技术术语  \n",
    "if_condition:\n",
    "  variable: \"customer_tier\"\n",
    "  operator: \"equals\"\n",
    "  value: 1\n",
    "  then_execute: \"function_call_risk_check\""
   ]
  },
  {
   "cell_type": "markdown",
   "id": "f7930000",
   "metadata": {},
   "source": [
    "2. 语法简洁无冗余"
   ]
  },
  {
   "cell_type": "code",
   "execution_count": null,
   "id": "aa2b0316",
   "metadata": {
    "vscode": {
     "languageId": "yaml"
    }
   },
   "outputs": [],
   "source": [
    "# 好的DSL：简洁明了\n",
    "approval_flow:\n",
    "  - check_credit_score\n",
    "  - if credit_score > 700:\n",
    "      approve_immediately\n",
    "  - else:\n",
    "      manual_review\n",
    "\n",
    "# 坏的DSL：过度复杂\n",
    "approval_flow:\n",
    "  steps:\n",
    "    - step_id: \"step_001\"\n",
    "      step_type: \"validation\"\n",
    "      step_name: \"check_credit_score\"\n",
    "      input_parameters:\n",
    "        - param_name: \"user_id\"\n",
    "          param_type: \"string\"\n",
    "          param_source: \"context.user_id\""
   ]
  },
  {
   "cell_type": "markdown",
   "id": "3fe7ddad",
   "metadata": {},
   "source": [
    "3. 可视化与文本双模式支持\n",
    "\n",
    "优秀的DSL既支持文本编辑（便于版本控制），也支持可视化编辑（便于业务人员使用）。\n",
    "\n",
    "4. 完善的错误反馈机制"
   ]
  },
  {
   "cell_type": "code",
   "execution_count": null,
   "id": "13f02890",
   "metadata": {
    "vscode": {
     "languageId": "yaml"
    }
   },
   "outputs": [],
   "source": [
    "错误示例：\n",
    " Syntax error at line 15\n",
    " 在第15行：未找到必需的'action'字段。客服流程中的每个步骤都必须指定具体的执行动作。"
   ]
  },
  {
   "cell_type": "markdown",
   "id": "4634b1c0",
   "metadata": {},
   "source": [
    "5. 无缝的系统集成能力\n",
    "\n",
    "DSL应该能够轻松调用现有的API和服务，而不需要复杂的适配层。"
   ]
  }
 ],
 "metadata": {
  "language_info": {
   "name": "python"
  }
 },
 "nbformat": 4,
 "nbformat_minor": 5
}
