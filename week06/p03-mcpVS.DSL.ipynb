{
 "cells": [
  {
   "cell_type": "code",
   "execution_count": null,
   "id": "3770ed04",
   "metadata": {},
   "outputs": [],
   "source": [
    "def handle_refund_request(user_input, context):\n",
    "    if \"退款\" in user_input:\n",
    "        order_id = extract_order_id(user_input)\n",
    "        if not order_id:\n",
    "            return \"请提供订单号\"\n",
    "        \n",
    "        order = get_order_details(order_id)\n",
    "        if order.status != \"delivered\":\n",
    "            return \"订单未发货，无法退款\"\n",
    "        \n",
    "        if days_since_delivery(order) > 30:\n",
    "            return \"超过30天退款期限\"\n",
    "        \n",
    "        if order.category == \"digital\":\n",
    "            return \"数字商品不支持退款\"\n",
    "        \n",
    "        # 执行退款逻辑...\n",
    "        process_refund(order_id)\n",
    "        return \"退款申请已提交\""
   ]
  },
  {
   "cell_type": "markdown",
   "id": "77bed501",
   "metadata": {},
   "source": [
    "这种方式的问题：\n",
    "\n",
    "- 业务规则变更需要修改代码：退款期限从30天改为15天，需要开发人员修改代码并重新部署\n",
    "- 业务人员无法直接参与：客服主管想调整流程，必须通过开发人员\n",
    "- 测试和维护成本高：每次修改都要重新测试整个系统"
   ]
  },
  {
   "cell_type": "code",
   "execution_count": null,
   "id": "637b0ce7",
   "metadata": {
    "vscode": {
     "languageId": "yaml"
    }
   },
   "outputs": [],
   "source": [
    "# 退款流程DSL\n",
    "refund_workflow:\n",
    "  name: \"客服退款处理流程\"\n",
    "  \n",
    "  steps:\n",
    "    - step: \"收集订单信息\"\n",
    "      type: \"slot_filling\"\n",
    "      slot: \"order_id\"\n",
    "      prompt: \"请提供您的订单号\"\n",
    "      validation: \"regex:^ORD[0-9]{8}$\"\n",
    "    \n",
    "    - step: \"验证退款条件\"\n",
    "      type: \"business_rules\"\n",
    "      rules:\n",
    "        - condition: \"order.status == 'delivered'\"\n",
    "          error_message: \"订单未发货，无法退款\"\n",
    "        - condition: \"days_since_delivery <= 30\"\n",
    "          error_message: \"超过30天退款期限\"\n",
    "        - condition: \"order.category != 'digital'\"\n",
    "          error_message: \"数字商品不支持退款\"\n",
    "    \n",
    "    - step: \"执行退款\"\n",
    "      type: \"api_call\"\n",
    "      service: \"payment_service\"\n",
    "      method: \"process_refund\"\n",
    "      params:\n",
    "        order_id: \"${context.order_id}\""
   ]
  },
  {
   "cell_type": "markdown",
   "id": "3d5abe08",
   "metadata": {},
   "source": [
    "这样的DSL描述带来了根本性的改变：\n",
    "\n",
    "- 业务人员可以直接修改：退款期限调整只需要改配置文件\n",
    "- 即时生效：无需重新编译和部署\n",
    "- 可视化编辑：可以开发图形化界面让业务人员操作\n",
    "- 版本控制：业务规则的变更历史一目了然"
   ]
  }
 ],
 "metadata": {
  "language_info": {
   "name": "python"
  }
 },
 "nbformat": 4,
 "nbformat_minor": 5
}
